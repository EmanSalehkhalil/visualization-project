{
  "nbformat": 4,
  "nbformat_minor": 0,
  "metadata": {
    "colab": {
      "provenance": []
    },
    "kernelspec": {
      "name": "python3",
      "display_name": "Python 3"
    },
    "language_info": {
      "name": "python"
    }
  },
  "cells": [
    {
      "cell_type": "code",
      "execution_count": 1135,
      "metadata": {
        "id": "bs1jijGcLeAb"
      },
      "outputs": [],
      "source": [
        "import numpy as np\n",
        "import pandas as pd\n",
        "\n",
        "import pandas as pd\n",
        "import pandas as pd\n",
        "from sklearn.neighbors import LocalOutlierFactor\n",
        "import matplotlib.pyplot as plt\n",
        "from scipy import stats\n",
        "import numpy as np\n",
        "import pandas as pd\n",
        "from sklearn.neighbors import LocalOutlierFactor\n",
        "import matplotlib.pyplot as plt\n",
        "from scipy import stats\n",
        "import numpy as np\n",
        "import numpy as np\n",
        "import pandas as pd\n",
        "from sklearn.datasets import load_boston\n",
        "import seaborn as sns\n",
        "import matplotlib.pyplot as plt\n",
        "import numpy as np\n",
        "import pandas as pd \n",
        "import seaborn as sns "
      ]
    },
    {
      "cell_type": "markdown",
      "source": [
        "Beggining of Exploratory work"
      ],
      "metadata": {
        "id": "36Q3MvZNnFKu"
      }
    },
    {
      "cell_type": "markdown",
      "source": [
        "read the car sale csv file"
      ],
      "metadata": {
        "id": "udO9UsDEm65V"
      }
    },
    {
      "cell_type": "code",
      "source": [
        "df = pd.read_csv(\"Car_sale_ads.csv\")\n",
        "df.columns"
      ],
      "metadata": {
        "colab": {
          "base_uri": "https://localhost:8080/"
        },
        "id": "S65PJZxGL6ct",
        "outputId": "35eb9007-2cd2-4e6d-b461-c01d7ece09b6"
      },
      "execution_count": 1136,
      "outputs": [
        {
          "output_type": "execute_result",
          "data": {
            "text/plain": [
              "Index(['Index', 'Price', 'Currency', 'Condition', 'Vehicle_brand',\n",
              "       'Vehicle_model', 'Vehicle_version', 'Vehicle_generation',\n",
              "       'Production_year', 'Mileage_km', 'Power_HP', 'Displacement_cm3',\n",
              "       'Fuel_type', 'CO2_emissions', 'Drive', 'Transmission', 'Type',\n",
              "       'Doors_number', 'Colour', 'Origin_country', 'First_owner',\n",
              "       'First_registration_date', 'Offer_publication_date', 'Offer_location',\n",
              "       'Features'],\n",
              "      dtype='object')"
            ]
          },
          "metadata": {},
          "execution_count": 1136
        }
      ]
    },
    {
      "cell_type": "markdown",
      "source": [
        "show the whole 5 rows values because normally the middle columns values won't show"
      ],
      "metadata": {
        "id": "VxZtGEr3nQR-"
      }
    },
    {
      "cell_type": "code",
      "source": [
        "pd.set_option(\"display.max.columns\", None)\n",
        "df.head()\n"
      ],
      "metadata": {
        "colab": {
          "base_uri": "https://localhost:8080/",
          "height": 583
        },
        "id": "LmmlEE4MO1eD",
        "outputId": "41f8d2ef-02af-4c32-dc91-51f1e5a5b5d8"
      },
      "execution_count": 1137,
      "outputs": [
        {
          "output_type": "execute_result",
          "data": {
            "text/plain": [
              "   Index  Price Currency Condition Vehicle_brand Vehicle_model  \\\n",
              "0      0  86200      PLN       New        Abarth           595   \n",
              "1      1  43500      PLN      Used        Abarth         Other   \n",
              "2      2  44900      PLN      Used        Abarth           500   \n",
              "3      3  39900      PLN      Used        Abarth           500   \n",
              "4      4  97900      PLN       New        Abarth           595   \n",
              "\n",
              "  Vehicle_version Vehicle_generation  Production_year  Mileage_km  Power_HP  \\\n",
              "0             NaN                NaN             2021         1.0     145.0   \n",
              "1             NaN                NaN             1974     59000.0      75.0   \n",
              "2             NaN                NaN             2018     52000.0     180.0   \n",
              "3             NaN                NaN             2012     29000.0     160.0   \n",
              "4             NaN                NaN             2021       600.0     165.0   \n",
              "\n",
              "   Displacement_cm3 Fuel_type  CO2_emissions         Drive Transmission  \\\n",
              "0            1400.0  Gasoline            NaN  Front wheels       Manual   \n",
              "1            1100.0  Gasoline            NaN  Front wheels       Manual   \n",
              "2            1368.0  Gasoline            NaN           NaN    Automatic   \n",
              "3            1368.0  Gasoline          139.0  Front wheels       Manual   \n",
              "4            1368.0  Gasoline            NaN           NaN       Manual   \n",
              "\n",
              "         Type  Doors_number  Colour Origin_country First_owner  \\\n",
              "0  small_cars           3.0    gray            NaN         NaN   \n",
              "1       coupe           2.0  silver            NaN         NaN   \n",
              "2  small_cars           3.0  silver            NaN         NaN   \n",
              "3  small_cars           3.0    gray            NaN         NaN   \n",
              "4  small_cars           3.0    blue            NaN         NaN   \n",
              "\n",
              "  First_registration_date Offer_publication_date  \\\n",
              "0                     NaN             04/05/2021   \n",
              "1                     NaN             03/05/2021   \n",
              "2                     NaN             03/05/2021   \n",
              "3                     NaN             30/04/2021   \n",
              "4                     NaN             30/04/2021   \n",
              "\n",
              "                                      Offer_location  \\\n",
              "0  ul. Jubilerska 6 - 04-190 Warszawa, Mazowiecki...   \n",
              "1  kanonierska12 - 04-425 Warszawa, Rembertów (Po...   \n",
              "2                   Warszawa, Mazowieckie, Białołęka   \n",
              "3                                  Jaworzno, Śląskie   \n",
              "4  ul. Gorzysława 9 - 61-057 Poznań, Nowe Miasto ...   \n",
              "\n",
              "                                            Features  \n",
              "0                                                 []  \n",
              "1                                                 []  \n",
              "2  ['ABS', 'Electric front windows', 'Drivers air...  \n",
              "3  ['ABS', 'Electric front windows', 'Drivers air...  \n",
              "4  ['ABS', 'Electrically adjustable mirrors', 'Pa...  "
            ],
            "text/html": [
              "\n",
              "  <div id=\"df-a57cffe0-e091-47d9-b73b-69c0ab71a080\">\n",
              "    <div class=\"colab-df-container\">\n",
              "      <div>\n",
              "<style scoped>\n",
              "    .dataframe tbody tr th:only-of-type {\n",
              "        vertical-align: middle;\n",
              "    }\n",
              "\n",
              "    .dataframe tbody tr th {\n",
              "        vertical-align: top;\n",
              "    }\n",
              "\n",
              "    .dataframe thead th {\n",
              "        text-align: right;\n",
              "    }\n",
              "</style>\n",
              "<table border=\"1\" class=\"dataframe\">\n",
              "  <thead>\n",
              "    <tr style=\"text-align: right;\">\n",
              "      <th></th>\n",
              "      <th>Index</th>\n",
              "      <th>Price</th>\n",
              "      <th>Currency</th>\n",
              "      <th>Condition</th>\n",
              "      <th>Vehicle_brand</th>\n",
              "      <th>Vehicle_model</th>\n",
              "      <th>Vehicle_version</th>\n",
              "      <th>Vehicle_generation</th>\n",
              "      <th>Production_year</th>\n",
              "      <th>Mileage_km</th>\n",
              "      <th>Power_HP</th>\n",
              "      <th>Displacement_cm3</th>\n",
              "      <th>Fuel_type</th>\n",
              "      <th>CO2_emissions</th>\n",
              "      <th>Drive</th>\n",
              "      <th>Transmission</th>\n",
              "      <th>Type</th>\n",
              "      <th>Doors_number</th>\n",
              "      <th>Colour</th>\n",
              "      <th>Origin_country</th>\n",
              "      <th>First_owner</th>\n",
              "      <th>First_registration_date</th>\n",
              "      <th>Offer_publication_date</th>\n",
              "      <th>Offer_location</th>\n",
              "      <th>Features</th>\n",
              "    </tr>\n",
              "  </thead>\n",
              "  <tbody>\n",
              "    <tr>\n",
              "      <th>0</th>\n",
              "      <td>0</td>\n",
              "      <td>86200</td>\n",
              "      <td>PLN</td>\n",
              "      <td>New</td>\n",
              "      <td>Abarth</td>\n",
              "      <td>595</td>\n",
              "      <td>NaN</td>\n",
              "      <td>NaN</td>\n",
              "      <td>2021</td>\n",
              "      <td>1.0</td>\n",
              "      <td>145.0</td>\n",
              "      <td>1400.0</td>\n",
              "      <td>Gasoline</td>\n",
              "      <td>NaN</td>\n",
              "      <td>Front wheels</td>\n",
              "      <td>Manual</td>\n",
              "      <td>small_cars</td>\n",
              "      <td>3.0</td>\n",
              "      <td>gray</td>\n",
              "      <td>NaN</td>\n",
              "      <td>NaN</td>\n",
              "      <td>NaN</td>\n",
              "      <td>04/05/2021</td>\n",
              "      <td>ul. Jubilerska 6 - 04-190 Warszawa, Mazowiecki...</td>\n",
              "      <td>[]</td>\n",
              "    </tr>\n",
              "    <tr>\n",
              "      <th>1</th>\n",
              "      <td>1</td>\n",
              "      <td>43500</td>\n",
              "      <td>PLN</td>\n",
              "      <td>Used</td>\n",
              "      <td>Abarth</td>\n",
              "      <td>Other</td>\n",
              "      <td>NaN</td>\n",
              "      <td>NaN</td>\n",
              "      <td>1974</td>\n",
              "      <td>59000.0</td>\n",
              "      <td>75.0</td>\n",
              "      <td>1100.0</td>\n",
              "      <td>Gasoline</td>\n",
              "      <td>NaN</td>\n",
              "      <td>Front wheels</td>\n",
              "      <td>Manual</td>\n",
              "      <td>coupe</td>\n",
              "      <td>2.0</td>\n",
              "      <td>silver</td>\n",
              "      <td>NaN</td>\n",
              "      <td>NaN</td>\n",
              "      <td>NaN</td>\n",
              "      <td>03/05/2021</td>\n",
              "      <td>kanonierska12 - 04-425 Warszawa, Rembertów (Po...</td>\n",
              "      <td>[]</td>\n",
              "    </tr>\n",
              "    <tr>\n",
              "      <th>2</th>\n",
              "      <td>2</td>\n",
              "      <td>44900</td>\n",
              "      <td>PLN</td>\n",
              "      <td>Used</td>\n",
              "      <td>Abarth</td>\n",
              "      <td>500</td>\n",
              "      <td>NaN</td>\n",
              "      <td>NaN</td>\n",
              "      <td>2018</td>\n",
              "      <td>52000.0</td>\n",
              "      <td>180.0</td>\n",
              "      <td>1368.0</td>\n",
              "      <td>Gasoline</td>\n",
              "      <td>NaN</td>\n",
              "      <td>NaN</td>\n",
              "      <td>Automatic</td>\n",
              "      <td>small_cars</td>\n",
              "      <td>3.0</td>\n",
              "      <td>silver</td>\n",
              "      <td>NaN</td>\n",
              "      <td>NaN</td>\n",
              "      <td>NaN</td>\n",
              "      <td>03/05/2021</td>\n",
              "      <td>Warszawa, Mazowieckie, Białołęka</td>\n",
              "      <td>['ABS', 'Electric front windows', 'Drivers air...</td>\n",
              "    </tr>\n",
              "    <tr>\n",
              "      <th>3</th>\n",
              "      <td>3</td>\n",
              "      <td>39900</td>\n",
              "      <td>PLN</td>\n",
              "      <td>Used</td>\n",
              "      <td>Abarth</td>\n",
              "      <td>500</td>\n",
              "      <td>NaN</td>\n",
              "      <td>NaN</td>\n",
              "      <td>2012</td>\n",
              "      <td>29000.0</td>\n",
              "      <td>160.0</td>\n",
              "      <td>1368.0</td>\n",
              "      <td>Gasoline</td>\n",
              "      <td>139.0</td>\n",
              "      <td>Front wheels</td>\n",
              "      <td>Manual</td>\n",
              "      <td>small_cars</td>\n",
              "      <td>3.0</td>\n",
              "      <td>gray</td>\n",
              "      <td>NaN</td>\n",
              "      <td>NaN</td>\n",
              "      <td>NaN</td>\n",
              "      <td>30/04/2021</td>\n",
              "      <td>Jaworzno, Śląskie</td>\n",
              "      <td>['ABS', 'Electric front windows', 'Drivers air...</td>\n",
              "    </tr>\n",
              "    <tr>\n",
              "      <th>4</th>\n",
              "      <td>4</td>\n",
              "      <td>97900</td>\n",
              "      <td>PLN</td>\n",
              "      <td>New</td>\n",
              "      <td>Abarth</td>\n",
              "      <td>595</td>\n",
              "      <td>NaN</td>\n",
              "      <td>NaN</td>\n",
              "      <td>2021</td>\n",
              "      <td>600.0</td>\n",
              "      <td>165.0</td>\n",
              "      <td>1368.0</td>\n",
              "      <td>Gasoline</td>\n",
              "      <td>NaN</td>\n",
              "      <td>NaN</td>\n",
              "      <td>Manual</td>\n",
              "      <td>small_cars</td>\n",
              "      <td>3.0</td>\n",
              "      <td>blue</td>\n",
              "      <td>NaN</td>\n",
              "      <td>NaN</td>\n",
              "      <td>NaN</td>\n",
              "      <td>30/04/2021</td>\n",
              "      <td>ul. Gorzysława 9 - 61-057 Poznań, Nowe Miasto ...</td>\n",
              "      <td>['ABS', 'Electrically adjustable mirrors', 'Pa...</td>\n",
              "    </tr>\n",
              "  </tbody>\n",
              "</table>\n",
              "</div>\n",
              "      <button class=\"colab-df-convert\" onclick=\"convertToInteractive('df-a57cffe0-e091-47d9-b73b-69c0ab71a080')\"\n",
              "              title=\"Convert this dataframe to an interactive table.\"\n",
              "              style=\"display:none;\">\n",
              "        \n",
              "  <svg xmlns=\"http://www.w3.org/2000/svg\" height=\"24px\"viewBox=\"0 0 24 24\"\n",
              "       width=\"24px\">\n",
              "    <path d=\"M0 0h24v24H0V0z\" fill=\"none\"/>\n",
              "    <path d=\"M18.56 5.44l.94 2.06.94-2.06 2.06-.94-2.06-.94-.94-2.06-.94 2.06-2.06.94zm-11 1L8.5 8.5l.94-2.06 2.06-.94-2.06-.94L8.5 2.5l-.94 2.06-2.06.94zm10 10l.94 2.06.94-2.06 2.06-.94-2.06-.94-.94-2.06-.94 2.06-2.06.94z\"/><path d=\"M17.41 7.96l-1.37-1.37c-.4-.4-.92-.59-1.43-.59-.52 0-1.04.2-1.43.59L10.3 9.45l-7.72 7.72c-.78.78-.78 2.05 0 2.83L4 21.41c.39.39.9.59 1.41.59.51 0 1.02-.2 1.41-.59l7.78-7.78 2.81-2.81c.8-.78.8-2.07 0-2.86zM5.41 20L4 18.59l7.72-7.72 1.47 1.35L5.41 20z\"/>\n",
              "  </svg>\n",
              "      </button>\n",
              "      \n",
              "  <style>\n",
              "    .colab-df-container {\n",
              "      display:flex;\n",
              "      flex-wrap:wrap;\n",
              "      gap: 12px;\n",
              "    }\n",
              "\n",
              "    .colab-df-convert {\n",
              "      background-color: #E8F0FE;\n",
              "      border: none;\n",
              "      border-radius: 50%;\n",
              "      cursor: pointer;\n",
              "      display: none;\n",
              "      fill: #1967D2;\n",
              "      height: 32px;\n",
              "      padding: 0 0 0 0;\n",
              "      width: 32px;\n",
              "    }\n",
              "\n",
              "    .colab-df-convert:hover {\n",
              "      background-color: #E2EBFA;\n",
              "      box-shadow: 0px 1px 2px rgba(60, 64, 67, 0.3), 0px 1px 3px 1px rgba(60, 64, 67, 0.15);\n",
              "      fill: #174EA6;\n",
              "    }\n",
              "\n",
              "    [theme=dark] .colab-df-convert {\n",
              "      background-color: #3B4455;\n",
              "      fill: #D2E3FC;\n",
              "    }\n",
              "\n",
              "    [theme=dark] .colab-df-convert:hover {\n",
              "      background-color: #434B5C;\n",
              "      box-shadow: 0px 1px 3px 1px rgba(0, 0, 0, 0.15);\n",
              "      filter: drop-shadow(0px 1px 2px rgba(0, 0, 0, 0.3));\n",
              "      fill: #FFFFFF;\n",
              "    }\n",
              "  </style>\n",
              "\n",
              "      <script>\n",
              "        const buttonEl =\n",
              "          document.querySelector('#df-a57cffe0-e091-47d9-b73b-69c0ab71a080 button.colab-df-convert');\n",
              "        buttonEl.style.display =\n",
              "          google.colab.kernel.accessAllowed ? 'block' : 'none';\n",
              "\n",
              "        async function convertToInteractive(key) {\n",
              "          const element = document.querySelector('#df-a57cffe0-e091-47d9-b73b-69c0ab71a080');\n",
              "          const dataTable =\n",
              "            await google.colab.kernel.invokeFunction('convertToInteractive',\n",
              "                                                     [key], {});\n",
              "          if (!dataTable) return;\n",
              "\n",
              "          const docLinkHtml = 'Like what you see? Visit the ' +\n",
              "            '<a target=\"_blank\" href=https://colab.research.google.com/notebooks/data_table.ipynb>data table notebook</a>'\n",
              "            + ' to learn more about interactive tables.';\n",
              "          element.innerHTML = '';\n",
              "          dataTable['output_type'] = 'display_data';\n",
              "          await google.colab.output.renderOutput(dataTable, element);\n",
              "          const docLink = document.createElement('div');\n",
              "          docLink.innerHTML = docLinkHtml;\n",
              "          element.appendChild(docLink);\n",
              "        }\n",
              "      </script>\n",
              "    </div>\n",
              "  </div>\n",
              "  "
            ]
          },
          "metadata": {},
          "execution_count": 1137
        }
      ]
    },
    {
      "cell_type": "markdown",
      "source": [
        "know the dimensions of our dataset where no. of rows=208304 and columns = 25"
      ],
      "metadata": {
        "id": "RlQaveeKnmt6"
      }
    },
    {
      "cell_type": "code",
      "source": [
        "df.shape"
      ],
      "metadata": {
        "colab": {
          "base_uri": "https://localhost:8080/"
        },
        "id": "PEkWWmZ1K4ms",
        "outputId": "e9e21793-39d4-4ab0-b989-1a666550edc5"
      },
      "execution_count": 1138,
      "outputs": [
        {
          "output_type": "execute_result",
          "data": {
            "text/plain": [
              "(208304, 25)"
            ]
          },
          "metadata": {},
          "execution_count": 1138
        }
      ]
    },
    {
      "cell_type": "markdown",
      "source": [
        "the datatypes of the dataset columns"
      ],
      "metadata": {
        "id": "2-MYfnMZoNs4"
      }
    },
    {
      "cell_type": "code",
      "source": [
        "df.dtypes"
      ],
      "metadata": {
        "colab": {
          "base_uri": "https://localhost:8080/"
        },
        "id": "iaNKT4hdKh-U",
        "outputId": "8885f5e8-7145-4570-a672-57befee08b13"
      },
      "execution_count": 1139,
      "outputs": [
        {
          "output_type": "execute_result",
          "data": {
            "text/plain": [
              "Index                        int64\n",
              "Price                        int64\n",
              "Currency                    object\n",
              "Condition                   object\n",
              "Vehicle_brand               object\n",
              "Vehicle_model               object\n",
              "Vehicle_version             object\n",
              "Vehicle_generation          object\n",
              "Production_year              int64\n",
              "Mileage_km                 float64\n",
              "Power_HP                   float64\n",
              "Displacement_cm3           float64\n",
              "Fuel_type                   object\n",
              "CO2_emissions              float64\n",
              "Drive                       object\n",
              "Transmission                object\n",
              "Type                        object\n",
              "Doors_number               float64\n",
              "Colour                      object\n",
              "Origin_country              object\n",
              "First_owner                 object\n",
              "First_registration_date     object\n",
              "Offer_publication_date      object\n",
              "Offer_location              object\n",
              "Features                    object\n",
              "dtype: object"
            ]
          },
          "metadata": {},
          "execution_count": 1139
        }
      ]
    },
    {
      "cell_type": "markdown",
      "source": [
        "the number of null values in each column"
      ],
      "metadata": {
        "id": "4W58ffhuoZxo"
      }
    },
    {
      "cell_type": "code",
      "source": [
        "df.isnull().sum()"
      ],
      "metadata": {
        "colab": {
          "base_uri": "https://localhost:8080/"
        },
        "id": "yQEJ8P1riK9J",
        "outputId": "74f917c4-2404-41ee-a137-8c90c73ec7a5"
      },
      "execution_count": 1140,
      "outputs": [
        {
          "output_type": "execute_result",
          "data": {
            "text/plain": [
              "Index                           0\n",
              "Price                           0\n",
              "Currency                        0\n",
              "Condition                       0\n",
              "Vehicle_brand                   0\n",
              "Vehicle_model                   0\n",
              "Vehicle_version             70222\n",
              "Vehicle_generation          60444\n",
              "Production_year                 0\n",
              "Mileage_km                    983\n",
              "Power_HP                      643\n",
              "Displacement_cm3             1966\n",
              "Fuel_type                       0\n",
              "CO2_emissions              114257\n",
              "Drive                       15076\n",
              "Transmission                  479\n",
              "Type                            0\n",
              "Doors_number                 1487\n",
              "Colour                          0\n",
              "Origin_country              89992\n",
              "First_owner                143210\n",
              "First_registration_date    121859\n",
              "Offer_publication_date          0\n",
              "Offer_location                  0\n",
              "Features                        0\n",
              "dtype: int64"
            ]
          },
          "metadata": {},
          "execution_count": 1140
        }
      ]
    },
    {
      "cell_type": "markdown",
      "source": [
        "the no. of repition of each unique value in vehicle brand column as we will be using only some of the most repeated brands like audi , Volkswagen and BMW . there are a lot of car brands so we will only use a subset of them"
      ],
      "metadata": {
        "id": "vyvHqHY0oo4r"
      }
    },
    {
      "cell_type": "code",
      "source": [
        "df['Vehicle_brand'].value_counts()"
      ],
      "metadata": {
        "colab": {
          "base_uri": "https://localhost:8080/"
        },
        "id": "NG0lQZl-p_IR",
        "outputId": "35b92f20-c73d-4092-b51d-ecd3d43e14e8"
      },
      "execution_count": 1141,
      "outputs": [
        {
          "output_type": "execute_result",
          "data": {
            "text/plain": [
              "Volkswagen    18455\n",
              "BMW           16983\n",
              "Audi          16730\n",
              "Opel          16322\n",
              "Ford          16007\n",
              "              ...  \n",
              "FAW               1\n",
              "MAN               1\n",
              "Talbot            1\n",
              "NSU               1\n",
              "Vanderhall        1\n",
              "Name: Vehicle_brand, Length: 108, dtype: int64"
            ]
          },
          "metadata": {},
          "execution_count": 1141
        }
      ]
    },
    {
      "cell_type": "markdown",
      "source": [
        "here we are trying to the unique values we have in our columns to fully understand the data.I also did this on other table columns like power and diplacement to know the unique values but since it was large . i deleted them so that every time i run the whole notebook it doesn't take a lot of time"
      ],
      "metadata": {
        "id": "v8KpKh1Gp2uA"
      }
    },
    {
      "cell_type": "code",
      "source": [
        "df['Condition'].unique()"
      ],
      "metadata": {
        "colab": {
          "base_uri": "https://localhost:8080/"
        },
        "id": "IQYn7Ph9O67x",
        "outputId": "06749937-6356-40f7-db13-5ae6b9743118"
      },
      "execution_count": 1142,
      "outputs": [
        {
          "output_type": "execute_result",
          "data": {
            "text/plain": [
              "array(['New', 'Used'], dtype=object)"
            ]
          },
          "metadata": {},
          "execution_count": 1142
        }
      ]
    },
    {
      "cell_type": "code",
      "source": [
        "df['Transmission'].unique()"
      ],
      "metadata": {
        "colab": {
          "base_uri": "https://localhost:8080/"
        },
        "id": "y0i-MGUMI2XJ",
        "outputId": "46c73843-5611-44b6-a6c5-df0c60f80a67"
      },
      "execution_count": 1143,
      "outputs": [
        {
          "output_type": "execute_result",
          "data": {
            "text/plain": [
              "array(['Manual', 'Automatic', nan], dtype=object)"
            ]
          },
          "metadata": {},
          "execution_count": 1143
        }
      ]
    },
    {
      "cell_type": "code",
      "source": [
        "df['Fuel_type'].unique()\n"
      ],
      "metadata": {
        "colab": {
          "base_uri": "https://localhost:8080/"
        },
        "id": "0_-zxvU7n4jr",
        "outputId": "7949643e-a371-4dfc-d95f-b0b211e3ce74"
      },
      "execution_count": 1144,
      "outputs": [
        {
          "output_type": "execute_result",
          "data": {
            "text/plain": [
              "array(['Gasoline', 'Gasoline + LPG', 'Diesel', 'Electric', 'Hybrid',\n",
              "       'Gasoline + CNG', 'Hydrogen', 'Ethanol'], dtype=object)"
            ]
          },
          "metadata": {},
          "execution_count": 1144
        }
      ]
    },
    {
      "cell_type": "code",
      "source": [
        "df['Type'].unique()"
      ],
      "metadata": {
        "colab": {
          "base_uri": "https://localhost:8080/"
        },
        "id": "uPoPc5x4qAkP",
        "outputId": "cdf7cb79-4eae-4595-d8e2-48e82b73a193"
      },
      "execution_count": 1145,
      "outputs": [
        {
          "output_type": "execute_result",
          "data": {
            "text/plain": [
              "array(['small_cars', 'coupe', 'city_cars', 'convertible', 'compact',\n",
              "       'SUV', 'sedan', 'station_wagon', 'minivan'], dtype=object)"
            ]
          },
          "metadata": {},
          "execution_count": 1145
        }
      ]
    },
    {
      "cell_type": "markdown",
      "source": [
        "we will start the data cleaning process"
      ],
      "metadata": {
        "id": "gEnUw4QWEIuN"
      }
    },
    {
      "cell_type": "markdown",
      "source": [
        "here we are dropping the columns i won't be using in the processas i already prepared my research questions. i would have used the co2 emission . However almost 50% of the its values is null values. i felt like it won't be accurate enough to apply discrimitave descions on."
      ],
      "metadata": {
        "id": "dq5SZyimq2nF"
      }
    },
    {
      "cell_type": "code",
      "source": [
        "df=df.drop(['Currency', 'First_registration_date','Offer_publication_date','Features','Offer_location','First_owner','Origin_country','Colour','Doors_number','Drive','Condition','Vehicle_model','Mileage_km','Vehicle_version','Vehicle_generation','CO2_emissions'], axis=1)"
      ],
      "metadata": {
        "id": "zVf_pH32EGB6"
      },
      "execution_count": 1146,
      "outputs": []
    },
    {
      "cell_type": "markdown",
      "source": [
        "finding outliers"
      ],
      "metadata": {
        "id": "Q7idaw8eGYux"
      }
    },
    {
      "cell_type": "markdown",
      "source": [
        "I am trying here to know if there is an error in the production year so I searched if there is any car that was made after 2022 . there was no record satisfying that. \n",
        "I decided to eliminate all the cars which was made before 1970 as after i plotted it was hard to recognize all these cars. and actually these are the part i am interested in in my project and they are considered a very small part of the data ."
      ],
      "metadata": {
        "id": "QDxY8qbcrc53"
      }
    },
    {
      "cell_type": "code",
      "source": [
        "df.loc[df['Production_year'] > 2022]\n",
        "\n",
        "\n",
        "df = df.drop(df[df.Production_year < 1970].index)\n",
        "df.shape"
      ],
      "metadata": {
        "colab": {
          "base_uri": "https://localhost:8080/"
        },
        "id": "MKKpxG2mGbEB",
        "outputId": "a5e0c180-eede-4d3b-c859-23d52bcaa41f"
      },
      "execution_count": 1147,
      "outputs": [
        {
          "output_type": "execute_result",
          "data": {
            "text/plain": [
              "(207750, 9)"
            ]
          },
          "metadata": {},
          "execution_count": 1147
        }
      ]
    },
    {
      "cell_type": "markdown",
      "source": [
        "removing the outliers of power column"
      ],
      "metadata": {
        "id": "TXgkhaQezoAO"
      }
    },
    {
      "cell_type": "markdown",
      "source": [
        "there was two ways to find the outliers . i did both however the second is commented as it provide me with an error when plotting. "
      ],
      "metadata": {
        "id": "9bJvfkSwti1F"
      }
    },
    {
      "cell_type": "markdown",
      "source": [
        "the below one is the first one where i did my research and found that more than 800 is considered outlier as it is almost impossible, rare. so i dropped any row that has power value > 800"
      ],
      "metadata": {
        "id": "AmflSlLYt0HS"
      }
    },
    {
      "cell_type": "code",
      "source": [
        "df = df.drop(df[df.Power_HP >= 800].index)\n",
        "df.shape"
      ],
      "metadata": {
        "colab": {
          "base_uri": "https://localhost:8080/"
        },
        "id": "APfXvOWmSp-b",
        "outputId": "5cd05579-d434-492a-9ae2-eeafd6adfd16"
      },
      "execution_count": 1148,
      "outputs": [
        {
          "output_type": "execute_result",
          "data": {
            "text/plain": [
              "(207735, 9)"
            ]
          },
          "metadata": {},
          "execution_count": 1148
        }
      ]
    },
    {
      "cell_type": "markdown",
      "source": [
        "the second one is that i made a dataset called (df_without_power_null_rows) which is all rows except the rows with power value = null and another one called (df_power_null_rows) with all rows whose power value=null. i used the (df_without_power_null_rows) dataset to convert it to int to be able to find IQR and the outliers. i then subtracted the outliers from the (df_without_power_null_rows) dataset and then appended the (df_power_null_rows). and sorted the rows according to the index to achieve and assigned it to df . this helped me see the outliers while still having the null values."
      ],
      "metadata": {
        "id": "S6f63gDHuXT0"
      }
    },
    {
      "cell_type": "code",
      "source": [
        "# df_without_power_null_rows = df[df.Power_HP.notnull()]\n",
        "# df_power_null_rows = df[df.Power_HP.isnull()]\n",
        "# df_power_null_rows.head()"
      ],
      "metadata": {
        "id": "HujA5cI1s_s-"
      },
      "execution_count": 1149,
      "outputs": []
    },
    {
      "cell_type": "code",
      "source": [
        "# df_without_power_null_rows['Power_HP'] = df_without_power_null_rows['Power_HP'].astype('int')"
      ],
      "metadata": {
        "id": "sT6UZJxzuAcc"
      },
      "execution_count": 1150,
      "outputs": []
    },
    {
      "cell_type": "code",
      "source": [
        "# Q1 = df_without_power_null_rows['Power_HP'].quantile(0.25)\n",
        "# Q3 = df_without_power_null_rows['Power_HP'].quantile(0.75)\n",
        "# IQR = Q3 - Q1\n",
        "# print(IQR)\n",
        "# arr_1 = df_without_power_null_rows['Power_HP'] < (Q1 - 1.5 * IQR)\n",
        "# arr_2 = df_without_power_null_rows['Power_HP'] > (Q3 + 1.5 * IQR)\n",
        "# mask = (arr_1 | arr_2)\n",
        "# df_power_cleared_iqr = df_without_power_null_rows[~(mask)]\n",
        "# df = df_power_cleared_iqr.append(df_power_null_rows)\n",
        "# df.sort_values(\"Index\")\n",
        "# print(df.isnull().sum())"
      ],
      "metadata": {
        "id": "6C6RkbHFuvHw"
      },
      "execution_count": 1151,
      "outputs": []
    },
    {
      "cell_type": "markdown",
      "source": [
        "removing the outliers from displacement column"
      ],
      "metadata": {
        "id": "rlb8wnrRztaJ"
      }
    },
    {
      "cell_type": "code",
      "source": [
        "df = df.drop(df[df.Power_HP >= 2100].index)\n",
        "df.shape\n",
        "### the avg power is 2000 so more than 2100 was fine for me"
      ],
      "metadata": {
        "colab": {
          "base_uri": "https://localhost:8080/"
        },
        "id": "bQ1-QN4UwcRx",
        "outputId": "82669a37-c1ac-4231-a17b-16f0162ec395"
      },
      "execution_count": 1152,
      "outputs": [
        {
          "output_type": "execute_result",
          "data": {
            "text/plain": [
              "(207735, 9)"
            ]
          },
          "metadata": {},
          "execution_count": 1152
        }
      ]
    },
    {
      "cell_type": "markdown",
      "source": [
        "here is the second method i did as i did in the power column"
      ],
      "metadata": {
        "id": "Tx-NukFYwSe2"
      }
    },
    {
      "cell_type": "code",
      "source": [
        "# df_without_displacement_null_rows = df[df.Displacement_cm3.notnull()]\n",
        "# df_displacement_null_rows = df[df.Displacement_cm3.isnull()]\n",
        "# df_displacement_null_rows.head()"
      ],
      "metadata": {
        "id": "y8ZqtxnWzxvO"
      },
      "execution_count": 1153,
      "outputs": []
    },
    {
      "cell_type": "code",
      "source": [
        "# df_without_displacement_null_rows['Displacement_cm3'] = df_without_displacement_null_rows['Displacement_cm3'].astype('int')"
      ],
      "metadata": {
        "id": "p3CQ1XQM0Bs_"
      },
      "execution_count": 1154,
      "outputs": []
    },
    {
      "cell_type": "code",
      "source": [
        "# Q1 = df_without_displacement_null_rows['Displacement_cm3'].quantile(0.25)\n",
        "# Q3 = df_without_displacement_null_rows['Displacement_cm3'].quantile(0.75)\n",
        "# IQR = Q3 - Q1\n",
        "# print(IQR)\n",
        "# arr_1 = df_without_displacement_null_rows['Displacement_cm3'] < (Q1 - 1.5 * IQR)\n",
        "# arr_2 = df_without_displacement_null_rows['Displacement_cm3'] > (Q3 + 1.5 * IQR)\n",
        "# mask = (arr_1 | arr_2)\n",
        "# df_displacment_cleared_iqr = df_without_displacement_null_rows[~(mask)]\n",
        "# df = df_displacment_cleared_iqr.append(df_power_null_rows)\n",
        "# df.sort_values(\"Index\")\n",
        "# df.head"
      ],
      "metadata": {
        "id": "LW_1cG_X0S1v"
      },
      "execution_count": 1155,
      "outputs": []
    },
    {
      "cell_type": "markdown",
      "source": [
        "removing price outliers"
      ],
      "metadata": {
        "id": "zHyPzksY09Ol"
      }
    },
    {
      "cell_type": "code",
      "source": [
        "z = np.abs(stats.zscore(df['Price']))\n",
        "filtered_entries = z < 3\n",
        "df = df[filtered_entries]\n",
        "print(df.shape)\n"
      ],
      "metadata": {
        "colab": {
          "base_uri": "https://localhost:8080/"
        },
        "id": "TMKbdzL01BHr",
        "outputId": "57c5f302-4be6-4094-aed2-b256328a3a46"
      },
      "execution_count": 1156,
      "outputs": [
        {
          "output_type": "stream",
          "name": "stdout",
          "text": [
            "(204065, 9)\n"
          ]
        }
      ]
    },
    {
      "cell_type": "markdown",
      "source": [
        "replace the missing values "
      ],
      "metadata": {
        "id": "O83JPymN2OZ2"
      }
    },
    {
      "cell_type": "code",
      "source": [
        "df.isnull().sum()"
      ],
      "metadata": {
        "colab": {
          "base_uri": "https://localhost:8080/"
        },
        "id": "gSylvV6_3RaD",
        "outputId": "720fb902-426c-4c75-ab88-54f905c29833"
      },
      "execution_count": 1157,
      "outputs": [
        {
          "output_type": "execute_result",
          "data": {
            "text/plain": [
              "Index                  0\n",
              "Price                  0\n",
              "Vehicle_brand          0\n",
              "Production_year        0\n",
              "Power_HP             625\n",
              "Displacement_cm3    1758\n",
              "Fuel_type              0\n",
              "Transmission         459\n",
              "Type                   0\n",
              "dtype: int64"
            ]
          },
          "metadata": {},
          "execution_count": 1157
        }
      ]
    },
    {
      "cell_type": "markdown",
      "source": [
        "fill the missing displacement with the mean of displacement variable"
      ],
      "metadata": {
        "id": "RGZJYMntx7-o"
      }
    },
    {
      "cell_type": "code",
      "source": [
        "np.mean(df['Displacement_cm3'])\n",
        "df['Displacement_cm3'].fillna((df['Displacement_cm3'].mean()), inplace=True) #inplace doesnt require me to aassign result to a new df\n"
      ],
      "metadata": {
        "colab": {
          "base_uri": "https://localhost:8080/"
        },
        "id": "MIsFka694Oh2",
        "outputId": "88c05da6-e56e-4667-bbe9-2923b30283a2"
      },
      "execution_count": 1158,
      "outputs": [
        {
          "output_type": "stream",
          "name": "stderr",
          "text": [
            "/usr/local/lib/python3.7/dist-packages/pandas/core/generic.py:6392: SettingWithCopyWarning: \n",
            "A value is trying to be set on a copy of a slice from a DataFrame\n",
            "\n",
            "See the caveats in the documentation: https://pandas.pydata.org/pandas-docs/stable/user_guide/indexing.html#returning-a-view-versus-a-copy\n",
            "  return self._update_inplace(result)\n"
          ]
        }
      ]
    },
    {
      "cell_type": "code",
      "source": [
        "df.isnull().sum()"
      ],
      "metadata": {
        "colab": {
          "base_uri": "https://localhost:8080/"
        },
        "id": "2cjPwZy84qyN",
        "outputId": "e4f1a4cd-d080-4c97-ffdd-fe0273dc3dfb"
      },
      "execution_count": 1159,
      "outputs": [
        {
          "output_type": "execute_result",
          "data": {
            "text/plain": [
              "Index                 0\n",
              "Price                 0\n",
              "Vehicle_brand         0\n",
              "Production_year       0\n",
              "Power_HP            625\n",
              "Displacement_cm3      0\n",
              "Fuel_type             0\n",
              "Transmission        459\n",
              "Type                  0\n",
              "dtype: int64"
            ]
          },
          "metadata": {},
          "execution_count": 1159
        }
      ]
    },
    {
      "cell_type": "markdown",
      "source": [
        "replace missing values in Power by the mean"
      ],
      "metadata": {
        "id": "mcb8ZuMd4u4j"
      }
    },
    {
      "cell_type": "code",
      "source": [
        "np.mean(df['Power_HP'])\n",
        "df['Power_HP'].fillna((df['Power_HP'].mean()), inplace=True) #inplace doesnt require me to aassign result to a new df\n",
        "df.isnull().sum()"
      ],
      "metadata": {
        "colab": {
          "base_uri": "https://localhost:8080/"
        },
        "id": "Ru-IeByj4zRW",
        "outputId": "73b6cfb5-c371-4da0-9dc1-b6d0f55967f5"
      },
      "execution_count": 1160,
      "outputs": [
        {
          "output_type": "execute_result",
          "data": {
            "text/plain": [
              "Index                 0\n",
              "Price                 0\n",
              "Vehicle_brand         0\n",
              "Production_year       0\n",
              "Power_HP              0\n",
              "Displacement_cm3      0\n",
              "Fuel_type             0\n",
              "Transmission        459\n",
              "Type                  0\n",
              "dtype: int64"
            ]
          },
          "metadata": {},
          "execution_count": 1160
        }
      ]
    },
    {
      "cell_type": "markdown",
      "source": [
        "replace missing values in transmittion by forward filling method"
      ],
      "metadata": {
        "id": "SaFA38Zx6gCN"
      }
    },
    {
      "cell_type": "code",
      "source": [
        "df['Transmission'].ffill(inplace=True)\n",
        "df.isnull().sum()"
      ],
      "metadata": {
        "colab": {
          "base_uri": "https://localhost:8080/"
        },
        "id": "0dv-MRpa6aMv",
        "outputId": "5aebad2e-e002-4415-ac90-3f118ef918dd"
      },
      "execution_count": 1161,
      "outputs": [
        {
          "output_type": "execute_result",
          "data": {
            "text/plain": [
              "Index               0\n",
              "Price               0\n",
              "Vehicle_brand       0\n",
              "Production_year     0\n",
              "Power_HP            0\n",
              "Displacement_cm3    0\n",
              "Fuel_type           0\n",
              "Transmission        0\n",
              "Type                0\n",
              "dtype: int64"
            ]
          },
          "metadata": {},
          "execution_count": 1161
        }
      ]
    },
    {
      "cell_type": "code",
      "source": [
        "# df.head(n=10)\n",
        "# df.drop('Index',axis=1)\n",
        "\n",
        "print(df.shape)\n"
      ],
      "metadata": {
        "colab": {
          "base_uri": "https://localhost:8080/"
        },
        "id": "e89-SMcZL0wf",
        "outputId": "24ec59fe-adff-43da-de1f-09f1ef503eda"
      },
      "execution_count": 1162,
      "outputs": [
        {
          "output_type": "stream",
          "name": "stdout",
          "text": [
            "(204065, 9)\n"
          ]
        }
      ]
    },
    {
      "cell_type": "code",
      "source": [
        "print(df.head(n=180642))"
      ],
      "metadata": {
        "colab": {
          "base_uri": "https://localhost:8080/"
        },
        "id": "8PtJ2dWkOpze",
        "outputId": "b71f8581-bc6d-4c0a-edb7-b2cc5c7c3924"
      },
      "execution_count": 1163,
      "outputs": [
        {
          "output_type": "stream",
          "name": "stdout",
          "text": [
            "         Index   Price Vehicle_brand  Production_year  Power_HP  \\\n",
            "0            0   86200        Abarth             2021     145.0   \n",
            "1            1   43500        Abarth             1974      75.0   \n",
            "2            2   44900        Abarth             2018     180.0   \n",
            "3            3   39900        Abarth             2012     160.0   \n",
            "4            4   97900        Abarth             2021     165.0   \n",
            "...        ...     ...           ...              ...       ...   \n",
            "184732  184732   51900    Volkswagen             2016     102.0   \n",
            "184733  184733  111900    Volkswagen             2021     102.0   \n",
            "184734  184734   46900    Volkswagen             2014     140.0   \n",
            "184735  184735   20000    Volkswagen             2006     105.0   \n",
            "184736  184736   38000    Volkswagen             2014     140.0   \n",
            "\n",
            "        Displacement_cm3 Fuel_type Transmission           Type  \n",
            "0                 1400.0  Gasoline       Manual     small_cars  \n",
            "1                 1100.0  Gasoline       Manual          coupe  \n",
            "2                 1368.0  Gasoline    Automatic     small_cars  \n",
            "3                 1368.0  Gasoline       Manual     small_cars  \n",
            "4                 1368.0  Gasoline       Manual     small_cars  \n",
            "...                  ...       ...          ...            ...  \n",
            "184732            1968.0    Diesel       Manual  station_wagon  \n",
            "184733            1968.0    Diesel       Manual        minivan  \n",
            "184734            1968.0    Diesel       Manual        minivan  \n",
            "184735            1896.0    Diesel    Automatic        minivan  \n",
            "184736            1968.0    Diesel       Manual        minivan  \n",
            "\n",
            "[180642 rows x 9 columns]\n"
          ]
        }
      ]
    },
    {
      "cell_type": "markdown",
      "source": [
        "first research question \n",
        "\"the difference/relation between the manual cars price and automatic cars price throughout the years?\""
      ],
      "metadata": {
        "id": "vexy4UYh6j1t"
      }
    },
    {
      "cell_type": "markdown",
      "source": [
        "here we used lineplot as we wanted to know the difference between the price of manual and automatic cars throughout. continous variable which is production time by ."
      ],
      "metadata": {
        "id": "n9K6KJLb6h6F"
      }
    },
    {
      "cell_type": "code",
      "source": [
        "manual=df['Transmission']=='Manual'\n",
        "automatic=df['Transmission']=='Automatic'\n",
        "manual_rows= df.loc[manual]\n",
        "automatic_rows= df.loc[automatic]\n",
        "sns.lineplot(x='Production_year',y='Price',data=manual_rows,label='manual')\n",
        "sns.lineplot(x='Production_year',y='Price',data=automatic_rows,label='automatic')\n",
        "\n",
        "## The conclusion is that for the car made starting 1970. \n",
        "##the automatic cars are more expensive than the automaic cars . "
      ],
      "metadata": {
        "colab": {
          "base_uri": "https://localhost:8080/",
          "height": 298
        },
        "id": "dnxk4oLbQEx1",
        "outputId": "0c2c52f1-63f5-496f-93f7-a5e9b1ee657e"
      },
      "execution_count": 1164,
      "outputs": [
        {
          "output_type": "execute_result",
          "data": {
            "text/plain": [
              "<matplotlib.axes._subplots.AxesSubplot at 0x7f9cd03b0e10>"
            ]
          },
          "metadata": {},
          "execution_count": 1164
        },
        {
          "output_type": "display_data",
          "data": {
            "text/plain": [
              "<Figure size 432x288 with 1 Axes>"
            ],
            "image/png": "[encoded data removed]"
          },
          "metadata": {
            "needs_background": "light"
          }
        }
      ]
    },
    {
      "cell_type": "markdown",
      "source": [
        "second research question \"what types of cars have the most engine diplacement?\""
      ],
      "metadata": {
        "id": "OwecZd9_zWkY"
      }
    },
    {
      "cell_type": "markdown",
      "source": [
        "we used barplot because we had ons string variable fuel type and one continous variable which is displacement"
      ],
      "metadata": {
        "id": "ohhSE1CU7GUO"
      }
    },
    {
      "cell_type": "code",
      "source": [
        "sns.barplot(data=df,y=\"Type\",x=\"Displacement_cm3\")\n",
        "\n",
        "### here we found out that coupe cars have the most powerful engine displacemnt \n",
        "##then convertible cars then sedan then suv then station wagon then minivan then compact then city cars\n",
        "###then small cars"
      ],
      "metadata": {
        "colab": {
          "base_uri": "https://localhost:8080/",
          "height": 298
        },
        "id": "TINHP8fZVQwc",
        "outputId": "6daa9135-459a-4524-cee5-f42fb20a31e4"
      },
      "execution_count": 1165,
      "outputs": [
        {
          "output_type": "execute_result",
          "data": {
            "text/plain": [
              "<matplotlib.axes._subplots.AxesSubplot at 0x7f9cdc38d490>"
            ]
          },
          "metadata": {},
          "execution_count": 1165
        },
        {
          "output_type": "display_data",
          "data": {
            "text/plain": [
              "<Figure size 432x288 with 1 Axes>"
            ],
            "image/png": "[encoded data removed]"
          },
          "metadata": {
            "needs_background": "light"
          }
        }
      ]
    },
    {
      "cell_type": "markdown",
      "source": [
        "third research question is what is the relation between the car power and car engine displacement on different car brands?"
      ],
      "metadata": {
        "id": "xVsnqMOz0jBo"
      }
    },
    {
      "cell_type": "markdown",
      "source": [
        "we used scatterplot as we want to show a plot of 3 variables the first is car brand which we also wanted to compare the behavior of 3 different car brands within it  and the car power and displacement. so the scatter plot was the optimal solution."
      ],
      "metadata": {
        "id": "LKiliw447W3B"
      }
    },
    {
      "cell_type": "code",
      "source": [
        " \n",
        "  \n",
        "\n",
        "audi=df['Vehicle_brand']=='Audi'\n",
        "volkswagen=df['Vehicle_brand']=='Volkswagen'\n",
        "bmw=df['Vehicle_brand']=='BMW'\n",
        "\n",
        "\n",
        "audi_rows= df.loc[audi]\n",
        "volkswagen_rows= df.loc[volkswagen]\n",
        "bmw_rows= df.loc[bmw]\n",
        "\n",
        "\n",
        "sns.scatterplot(x='Displacement_cm3',y='Power_HP',data=audi_rows,label='audi')\n",
        "sns.scatterplot(x='Displacement_cm3',y='Power_HP',data=volkswagen_rows,label='Volkswagen')\n",
        "sns.scatterplot(x='Displacement_cm3',y='Power_HP',data=bmw_rows,label='BMW')\n",
        "\n",
        "#### we concluded that as the displacement increses the car power increases . and that volkswagen \n",
        "###doesn't have as much displacemnt as audi and bmw. most of the volexwagen cars here have displacemnt \n",
        "###between 1000 and 2000 which is too small compared to audi and bmw as they have alot of cars at 4000 . and \n",
        "### volkswagen power as well is very limited .most of the volkswagen cars have power between 0 and 200\n",
        "### which is too small compared to bmw and audi"
      ],
      "metadata": {
        "colab": {
          "base_uri": "https://localhost:8080/",
          "height": 298
        },
        "id": "aTz7jyxsYb9p",
        "outputId": "33999db1-bc8f-48af-81c9-4db13661ffc4"
      },
      "execution_count": 1166,
      "outputs": [
        {
          "output_type": "execute_result",
          "data": {
            "text/plain": [
              "<matplotlib.axes._subplots.AxesSubplot at 0x7f9cdb187750>"
            ]
          },
          "metadata": {},
          "execution_count": 1166
        },
        {
          "output_type": "display_data",
          "data": {
            "text/plain": [
              "<Figure size 432x288 with 1 Axes>"
            ],
            "image/png": "[encoded data removed]"
          },
          "metadata": {
            "needs_background": "light"
          }
        }
      ]
    },
    {
      "cell_type": "markdown",
      "source": [
        "forth research question \"what fuel type is used by cars with maximum displacement?\" "
      ],
      "metadata": {
        "id": "O9wxpitC2y0S"
      }
    },
    {
      "cell_type": "markdown",
      "source": [
        "we used catplot as we had a string variable fuel to compare against a continous variable which is displacement"
      ],
      "metadata": {
        "id": "kfdD-dBR8Pn4"
      }
    },
    {
      "cell_type": "code",
      "source": [
        "\n",
        "sns.catplot(y='Fuel_type',x='Displacement_cm3',data=df)\n",
        "\n",
        "###conclusion: the gasoline is used to give the maximum displacement then diesel then gasoline+LPG \n",
        "##then hybrid then ethanol then gasoline+CNG then electric then hydrogen.\n",
        "###gasoline can be used with all carengines with different diplacements as long s it is \n",
        "##before equal to or smaller than 8000 as in the graph"
      ],
      "metadata": {
        "colab": {
          "base_uri": "https://localhost:8080/",
          "height": 387
        },
        "id": "MgTpljFLdbN2",
        "outputId": "975303b3-b9d5-4851-ca4d-dc3110da845d"
      },
      "execution_count": 1167,
      "outputs": [
        {
          "output_type": "execute_result",
          "data": {
            "text/plain": [
              "<seaborn.axisgrid.FacetGrid at 0x7f9cd844a6d0>"
            ]
          },
          "metadata": {},
          "execution_count": 1167
        },
        {
          "output_type": "display_data",
          "data": {
            "text/plain": [
              "<Figure size 360x360 with 1 Axes>"
            ],
            "image/png": "[encoded data removed]"
          },
          "metadata": {
            "needs_background": "light"
          }
        }
      ]
    },
    {
      "cell_type": "markdown",
      "source": [
        "fifth research question \"what is the relation between the price and the car engine diplacement?\""
      ],
      "metadata": {
        "id": "aOnhBFVa4MLl"
      }
    },
    {
      "cell_type": "markdown",
      "source": [
        "we used normal scatter plot as we wanted to know the correlation of the datapoints where we used 2 variables which are price and displacement "
      ],
      "metadata": {
        "id": "ewf9_wFU8j3M"
      }
    },
    {
      "cell_type": "code",
      "source": [
        "plt.figure(figsize=(14,6))\n",
        "\n",
        "sns.regplot(x=df['Displacement_cm3'], y=df['Price'])\n",
        "##conclusion when the displacement is less than 1000 the price becomes less than 15000. however as we \n",
        "### have a displacement bigger than 1000 the prices increase to the extend that it can become more than \n",
        "## 300000."
      ],
      "metadata": {
        "colab": {
          "base_uri": "https://localhost:8080/",
          "height": 407
        },
        "id": "gRuRYH85hNCs",
        "outputId": "e718df07-38a2-492a-c975-baea15cd2cdb"
      },
      "execution_count": 1168,
      "outputs": [
        {
          "output_type": "execute_result",
          "data": {
            "text/plain": [
              "<matplotlib.axes._subplots.AxesSubplot at 0x7f9cd2204b50>"
            ]
          },
          "metadata": {},
          "execution_count": 1168
        },
        {
          "output_type": "display_data",
          "data": {
            "text/plain": [
              "<Figure size 1008x432 with 1 Axes>"
            ],
            "image/png": "[encoded data removed]"
          },
          "metadata": {
            "needs_background": "light"
          }
        }
      ]
    }
  ]
}